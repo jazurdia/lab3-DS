{
 "cells": [
  {
   "cell_type": "code",
   "execution_count": 26,
   "id": "52d6ae0b",
   "metadata": {},
   "outputs": [],
   "source": [
    "import tensorflow as tf\n",
    "import pickle\n",
    "import numpy as np\n",
    "import os\n",
    "from tensorflow.keras.preprocessing.image import img_to_array\n",
    "import tensorflow as tf\n",
    "from tensorflow.keras import layers, models\n"
   ]
  },
  {
   "cell_type": "code",
   "execution_count": 27,
   "id": "initial_id",
   "metadata": {
    "collapsed": true
   },
   "outputs": [
    {
     "name": "stdout",
     "output_type": "stream",
     "text": [
      "Tensor flow version: 2.10.0\n"
     ]
    }
   ],
   "source": [
    "print(f\"Tensor flow version: {tf.__version__}\")"
   ]
  },
  {
   "cell_type": "markdown",
   "id": "36c6a582",
   "metadata": {},
   "source": [
    "## 1. Preparación de los datos"
   ]
  },
  {
   "cell_type": "markdown",
   "id": "c4be40b8",
   "metadata": {},
   "source": [
    "### Descargar el conjunto de datos de rótulos de tráfico que contiene las imágenes de las 43 clases mencionadas"
   ]
  },
  {
   "cell_type": "code",
   "execution_count": 28,
   "id": "4c0541cc",
   "metadata": {},
   "outputs": [
    {
     "name": "stdout",
     "output_type": "stream",
     "text": [
      "dict_keys(['coords', 'labels', 'features', 'sizes'])\n",
      "Key: coords, Type: <class 'numpy.ndarray'>, Length: 34799\n",
      "Key: labels, Type: <class 'numpy.ndarray'>, Length: 34799\n",
      "Key: features, Type: <class 'numpy.ndarray'>, Length: 34799\n",
      "Key: sizes, Type: <class 'numpy.ndarray'>, Length: 34799\n"
     ]
    }
   ],
   "source": [
    "# Cargar el archivo .p\n",
    "with open('data/Datos_Rotulos_Trafico/entrenamiento.p', 'rb') as file:\n",
    "    data = pickle.load(file)\n",
    "\n",
    "# Imprimir las claves disponibles\n",
    "print(data.keys())\n",
    "\n",
    "# Inspeccionar un poco más el contenido\n",
    "for key in data.keys():\n",
    "    print(f\"Key: {key}, Type: {type(data[key])}, Length: {len(data[key])}\")\n"
   ]
  },
  {
   "cell_type": "markdown",
   "id": "e33807f4",
   "metadata": {},
   "source": [
    "### Dividir el conjunto de datos en conjuntos de entrenamiento, validación y prueba."
   ]
  },
  {
   "cell_type": "code",
   "execution_count": 29,
   "id": "9c8fd873",
   "metadata": {},
   "outputs": [],
   "source": [
    "# Función para cargar los datos desde un archivo .p\n",
    "def load_data(pickle_file):\n",
    "    with open(pickle_file, 'rb') as file:\n",
    "        data = pickle.load(file)\n",
    "    return data['features'], data['labels']"
   ]
  },
  {
   "cell_type": "code",
   "execution_count": 30,
   "id": "5534fa2b",
   "metadata": {},
   "outputs": [],
   "source": [
    "# Cargar los conjuntos de datos\n",
    "X_train, y_train = load_data('data/Datos_Rotulos_Trafico/entrenamiento.p')\n",
    "X_val, y_val = load_data('data/Datos_Rotulos_Trafico/validacion.p')\n",
    "X_test, y_test = load_data('data/Datos_Rotulos_Trafico/prueba.p')"
   ]
  },
  {
   "cell_type": "markdown",
   "id": "51fffa45",
   "metadata": {},
   "source": [
    "\n",
    "### Realizar preprocesamiento de las imágenes, como redimensionarlas a un tamaño estándar, normalización, etc"
   ]
  },
  {
   "cell_type": "code",
   "execution_count": 31,
   "id": "c32b70e3",
   "metadata": {},
   "outputs": [],
   "source": [
    "X_train = X_train / 255.0\n",
    "X_val = X_val / 255.0\n",
    "X_test = X_test / 255.0\n",
    "\n",
    "# Convertir etiquetas a arrays de NumPy (aunque ya están en ese formato, es bueno asegurarse)\n",
    "y_train = np.array(y_train)\n",
    "y_val = np.array(y_val)\n",
    "y_test = np.array(y_test)"
   ]
  },
  {
   "cell_type": "code",
   "execution_count": 32,
   "id": "5faba4fb",
   "metadata": {},
   "outputs": [
    {
     "name": "stdout",
     "output_type": "stream",
     "text": [
      "Train data shape: (34799, 32, 32, 3), Labels shape: (34799,)\n",
      "Validation data shape: (4410, 32, 32, 3), Labels shape: (4410,)\n",
      "Test data shape: (12630, 32, 32, 3), Labels shape: (12630,)\n"
     ]
    }
   ],
   "source": [
    "# Verificar la forma de los datos\n",
    "print(f'Train data shape: {X_train.shape}, Labels shape: {y_train.shape}')\n",
    "print(f'Validation data shape: {X_val.shape}, Labels shape: {y_val.shape}')\n",
    "print(f'Test data shape: {X_test.shape}, Labels shape: {y_test.shape}')"
   ]
  },
  {
   "cell_type": "markdown",
   "id": "8a98bfab",
   "metadata": {},
   "source": [
    "## 2. Implementación de la arquitectura Le-Net:"
   ]
  },
  {
   "cell_type": "markdown",
   "id": "f5e69569",
   "metadata": {},
   "source": [
    "### Presentar la arquitectura Le-Net en detalle, explicando cada capa (convolucional, pooling, fully connected)."
   ]
  },
  {
   "cell_type": "markdown",
   "id": "d8ca3c17",
   "metadata": {},
   "source": [
    "LeNet es una de las primeras arquitecturas de redes neuronales convolucionales, desarrollada por Yann LeCun y su equipo en 1998. Fue diseñada inicialmente para reconocer dígitos escritos a mano en imágenes de 28x28 píxeles, como los dígitos del conjunto de datos MNIST. A continuación, se detalla la arquitectura de LeNet:\n",
    "\n",
    "#### 1. Capa Convolucional 1 (Conv1)\n",
    "- **Entrada**: Una imagen de 32x32 píxeles (en blanco y negro, con un solo canal).\n",
    "- **Operación**: Se aplica un filtro convolucional de tamaño 5x5, con 6 filtros en total, produciendo 6 mapas de características.\n",
    "- **Salida**: 6 mapas de características, cada uno de tamaño 28x28 píxeles.\n",
    "\n",
    "#### 2. Capa de Submuestreo (Pooling) 1 (Pool1)\n",
    "- **Entrada**: Los 6 mapas de características de la capa anterior.\n",
    "- **Operación**: Se aplica un max-pooling (o submuestreo) con un tamaño de ventana 2x2 y un stride de 2, lo que reduce las dimensiones de cada mapa de características.\n",
    "- **Salida**: 6 mapas de características de tamaño 14x14 píxeles.\n",
    "\n",
    "#### 3. Capa Convolucional 2 (Conv2)\n",
    "- **Entrada**: Los 6 mapas de características de la capa anterior.\n",
    "- **Operación**: Se aplican 16 filtros convolucionales de tamaño 5x5, produciendo 16 nuevos mapas de características.\n",
    "- **Salida**: 16 mapas de características, cada uno de tamaño 10x10 píxeles.\n",
    "\n",
    "#### 4. Capa de Submuestreo (Pooling) 2 (Pool2)\n",
    "- **Entrada**: Los 16 mapas de características de la capa anterior.\n",
    "- **Operación**: Se aplica max-pooling con una ventana de 2x2 y un stride de 2.\n",
    "- **Salida**: 16 mapas de características de tamaño 5x5 píxeles.\n",
    "\n",
    "#### 5. Capa Fully Connected (FC1)\n",
    "- **Entrada**: Las salidas aplanadas de los 16 mapas de características de tamaño 5x5, lo que da un vector de 400 elementos (16x5x5).\n",
    "- **Operación**: Se conecta cada una de las 400 entradas a 120 neuronas completamente conectadas.\n",
    "- **Salida**: Un vector de 120 elementos.\n",
    "\n",
    "#### 6. Capa Fully Connected (FC2)\n",
    "- **Entrada**: El vector de 120 elementos de la capa anterior.\n",
    "- **Operación**: Se conecta cada uno de los 120 valores a 84 neuronas completamente conectadas.\n",
    "- **Salida**: Un vector de 84 elementos.\n",
    "\n",
    "#### 7. Capa de Salida (Output Layer)\n",
    "- **Entrada**: El vector de 84 elementos.\n",
    "- **Operación**: Se conecta a una capa de salida con tantas neuronas como clases de salida, en este caso 10 (para los dígitos del 0 al 9 en MNIST).\n",
    "- **Salida**: Un vector de 10 elementos, que representa las probabilidades de pertenencia a cada clase.\n",
    "\n",
    "En resumen, la arquitectura LeNet es un ejemplo clásico de una red neuronal convolucional, que combina capas convolucionales para extracción de características y capas completamente conectadas para la clasificación. Aunque sencilla en comparación con arquitecturas modernas, LeNet sentó las bases para muchos avances en el campo de la visión por computadora.\n"
   ]
  },
  {
   "cell_type": "markdown",
   "id": "885b8a90",
   "metadata": {},
   "source": [
    "### Mostrar el diseño de la red Le-Net utilizando una herramienta de diagramación."
   ]
  },
  {
   "attachments": {
    "Diagrama en blanco.png": {
     "image/png": "[encoded data removed]"
    }
   },
   "cell_type": "markdown",
   "id": "d1326a5e",
   "metadata": {},
   "source": [
    "![Diagrama en blanco.png](<attachment:Diagrama en blanco.png>)"
   ]
  },
  {
   "cell_type": "markdown",
   "id": "051fa48f",
   "metadata": {},
   "source": [
    "La red LeNet toma como entrada una imagen de 32x32 píxeles y la procesa a través de varias capas para extraer características y clasificarlas. El flujo de la red es el siguiente:\n",
    "\n",
    "1. **Input Layer**: Recibe la imagen de entrada de 32x32 píxeles con un solo canal (en blanco y negro).\n",
    "\n",
    "2. **Conv1 Layer**: Aplica 6 filtros convolucionales de tamaño 5x5 para generar 6 mapas de características, cada uno de 28x28 píxeles.\n",
    "\n",
    "3. **Pool1 Layer**: Realiza una operación de submuestreo (pooling) para reducir el tamaño de los mapas de características a 14x14 píxeles.\n",
    "\n",
    "4. **Conv2 Layer**: Aplica 16 filtros convolucionales de tamaño 5x5, produciendo 16 mapas de características de 10x10 píxeles.\n",
    "\n",
    "5. **Pool2 Layer**: Aplica otro submuestreo para reducir el tamaño de los mapas de características a 5x5 píxeles.\n",
    "\n",
    "6. **FC1 Layer**: Aplana las características y las pasa a través de una capa completamente conectada con 120 neuronas.\n",
    "\n",
    "7. **FC2 Layer**: Las salidas de la capa anterior se pasan a otra capa completamente conectada con 84 neuronas.\n",
    "\n",
    "8. **Output Layer**: Finalmente, la capa de salida consiste en 10 neuronas, que corresponden a las 10 clases posibles para la clasificación.\n",
    "\n",
    "Este flujo de procesamiento permite que la red LeNet extraiga y combine características a diferentes niveles de abstracción, culminando en la predicción de la clase de la imagen de entrada.\n"
   ]
  },
  {
   "cell_type": "markdown",
   "id": "0f01be13",
   "metadata": {},
   "source": [
    "### Explicar el proceso de convolución, función de activación y pooling."
   ]
  },
  {
   "cell_type": "markdown",
   "id": "a49ace67",
   "metadata": {},
   "source": [
    "**Proceso de Convolución**\n",
    "\n",
    "El proceso de convolución es una operación fundamental en las redes neuronales convolucionales (CNNs) que consiste en aplicar un filtro (o kernel) sobre la entrada (como una imagen) para extraer características importantes. El filtro se desliza (o convoluciona) sobre la entrada, realizando multiplicaciones punto a punto entre los valores del filtro y las secciones correspondientes de la imagen. Luego, se suman los productos resultantes para obtener un solo valor que representa la activación en esa ubicación específica. Este proceso se repite para cada posición del filtro, produciendo un mapa de características que resalta las características detectadas por el filtro en la imagen original.\n",
    "\n",
    "**Función de Activación**\n",
    "\n",
    "Una vez que la convolución se ha aplicado, el resultado suele pasar a través de una función de activación, siendo la más común la función ReLU (Rectified Linear Unit). La función ReLU se define como \\( f(x) = \\max(0, x) \\), es decir, reemplaza todos los valores negativos por cero y deja los valores positivos sin cambios. Esta no linealidad permite a la red aprender una amplia gama de patrones complejos y aumentar su capacidad de representación. La función de activación se aplica a cada valor en el mapa de características generado por la convolución.\n",
    "\n",
    "**Pooling**\n",
    "\n",
    "El pooling es una operación de reducción de dimensionalidad que se aplica sobre los mapas de características después de la convolución y la activación. La operación más común es el Max Pooling, donde se selecciona el valor máximo dentro de una ventana (por ejemplo, de 2x2) que se desliza sobre el mapa de características. El pooling reduce el tamaño del mapa de características, haciendo que la red sea más computacionalmente eficiente y menos propensa a sobreajustarse. También ayuda a que la red sea invariante a pequeñas traslaciones de la entrada, mejorando la capacidad de generalización del modelo.\n"
   ]
  },
  {
   "cell_type": "markdown",
   "id": "5393db86",
   "metadata": {},
   "source": [
    "## 3. Construcción del modelo:"
   ]
  },
  {
   "cell_type": "markdown",
   "id": "93c5d1c4",
   "metadata": {},
   "source": [
    "### Utilizar la biblioteca de aprendizaje profundo TensorFlow para construir la arquitectura Le-Net"
   ]
  },
  {
   "cell_type": "code",
   "execution_count": 34,
   "id": "c515c979",
   "metadata": {},
   "outputs": [],
   "source": [
    "model = models.Sequential()"
   ]
  },
  {
   "cell_type": "markdown",
   "id": "ce12d0f2",
   "metadata": {},
   "source": [
    "### Definir la estructura de capas convolucionales, capas de pooling y capas fully connected."
   ]
  },
  {
   "cell_type": "code",
   "execution_count": 35,
   "id": "632eee40",
   "metadata": {},
   "outputs": [],
   "source": [
    "# Capa Convolucional 1\n",
    "model.add(layers.Conv2D(6, (5, 5), activation='relu', input_shape=(32, 32, 1)))\n",
    "model.add(layers.MaxPooling2D((2, 2)))\n",
    "\n",
    "# Capa Convolucional 2\n",
    "model.add(layers.Conv2D(16, (5, 5), activation='relu'))\n",
    "model.add(layers.MaxPooling2D((2, 2)))\n",
    "\n",
    "# Aplanar las características\n",
    "model.add(layers.Flatten())\n",
    "\n",
    "# Capa Fully Connected 1\n",
    "model.add(layers.Dense(120, activation='relu'))\n",
    "\n",
    "# Capa Fully Connected 2\n",
    "model.add(layers.Dense(84, activation='relu'))\n",
    "\n",
    "# Capa de Salida\n",
    "model.add(layers.Dense(10, activation='softmax'))"
   ]
  },
  {
   "cell_type": "code",
   "execution_count": 36,
   "id": "9c7b604c",
   "metadata": {},
   "outputs": [
    {
     "name": "stdout",
     "output_type": "stream",
     "text": [
      "Model: \"sequential_3\"\n",
      "_________________________________________________________________\n",
      " Layer (type)                Output Shape              Param #   \n",
      "=================================================================\n",
      " conv2d_4 (Conv2D)           (None, 28, 28, 6)         156       \n",
      "                                                                 \n",
      " max_pooling2d_4 (MaxPooling  (None, 14, 14, 6)        0         \n",
      " 2D)                                                             \n",
      "                                                                 \n",
      " conv2d_5 (Conv2D)           (None, 10, 10, 16)        2416      \n",
      "                                                                 \n",
      " max_pooling2d_5 (MaxPooling  (None, 5, 5, 16)         0         \n",
      " 2D)                                                             \n",
      "                                                                 \n",
      " flatten_2 (Flatten)         (None, 400)               0         \n",
      "                                                                 \n",
      " dense_6 (Dense)             (None, 120)               48120     \n",
      "                                                                 \n",
      " dense_7 (Dense)             (None, 84)                10164     \n",
      "                                                                 \n",
      " dense_8 (Dense)             (None, 10)                850       \n",
      "                                                                 \n",
      "=================================================================\n",
      "Total params: 61,706\n",
      "Trainable params: 61,706\n",
      "Non-trainable params: 0\n",
      "_________________________________________________________________\n"
     ]
    }
   ],
   "source": [
    "# Resumen del modelo\n",
    "model.summary()"
   ]
  },
  {
   "cell_type": "markdown",
   "id": "0cf0f726",
   "metadata": {},
   "source": [
    "### Explicar la importancia de la función de pérdida y el optimizador."
   ]
  },
  {
   "cell_type": "markdown",
   "id": "c5a6d521",
   "metadata": {},
   "source": [
    "**Función de Pérdida**\n",
    "\n",
    "La función de pérdida es un componente crucial en el entrenamiento de una red neuronal. Su principal objetivo es cuantificar cuán lejos están las predicciones del modelo de las verdaderas etiquetas. En otras palabras, mide el \"costo\" o \"error\" asociado a las predicciones actuales de la red. Durante el entrenamiento, el modelo intenta minimizar esta función de pérdida, ajustando los pesos de la red para que las predicciones se acerquen lo más posible a las etiquetas correctas. Existen diferentes tipos de funciones de pérdida, como la entropía cruzada para tareas de clasificación o el error cuadrático medio para tareas de regresión, cada una adecuada para diferentes tipos de problemas.\n",
    "\n",
    "**Optimizador**\n",
    "\n",
    "El optimizador es el algoritmo que ajusta los pesos y sesgos de la red neuronal en función del valor de la función de pérdida. Su papel es minimizar la función de pérdida mediante un proceso iterativo de ajuste de los parámetros del modelo. Uno de los optimizadores más comunes es el Descenso de Gradiente Estocástico (SGD), que ajusta los parámetros en la dirección opuesta al gradiente de la función de pérdida con respecto a los parámetros. Variantes más avanzadas como Adam, RMSprop, y AdaGrad, entre otros, incluyen mejoras para manejar la velocidad de aprendizaje de manera adaptativa y reducir la variabilidad del descenso de gradiente, acelerando así la convergencia y mejorando la estabilidad del entrenamiento.\n",
    "\n",
    "**Importancia Conjunta**\n",
    "\n",
    "La combinación de una función de pérdida y un optimizador es fundamental para el entrenamiento efectivo de una red neuronal. Mientras que la función de pérdida proporciona una medida del error que el modelo debe minimizar, el optimizador determina cómo el modelo debe actualizar sus pesos para reducir ese error. Juntos, estos componentes permiten que la red aprenda patrones complejos en los datos, mejorando su capacidad para hacer predicciones precisas.\n"
   ]
  }
 ],
 "metadata": {
  "kernelspec": {
   "display_name": "Python 3",
   "language": "python",
   "name": "python3"
  },
  "language_info": {
   "codemirror_mode": {
    "name": "ipython",
    "version": 3
   },
   "file_extension": ".py",
   "mimetype": "text/x-python",
   "name": "python",
   "nbconvert_exporter": "python",
   "pygments_lexer": "ipython3",
   "version": "3.8.18"
  }
 },
 "nbformat": 4,
 "nbformat_minor": 5
}
